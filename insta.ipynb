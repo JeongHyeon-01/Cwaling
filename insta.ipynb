{
 "cells": [
  {
   "cell_type": "code",
   "execution_count": 102,
   "metadata": {},
   "outputs": [],
   "source": [
    "from selenium import webdriver\n",
    "from bs4 import BeautifulSoup\n",
    "import time\n",
    "import pandas as pd"
   ]
  },
  {
   "cell_type": "code",
   "execution_count": 17,
   "metadata": {},
   "outputs": [
    {
     "name": "stderr",
     "output_type": "stream",
     "text": [
      "/var/folders/pf/fwj97kj92xndww92192qpr780000gn/T/ipykernel_58208/2584396498.py:2: DeprecationWarning: executable_path has been deprecated, please pass in a Service object\n",
      "  driver = webdriver.Chrome('./chromedriver')\n"
     ]
    }
   ],
   "source": [
    "url = \"https://www.instagram.com/\"\n",
    "driver = webdriver.Chrome('./chromedriver')\n",
    "driver.get(url)"
   ]
  },
  {
   "cell_type": "code",
   "execution_count": 12,
   "metadata": {},
   "outputs": [],
   "source": [
    "\n",
    "id = 'auddwd00@naver.com'\n",
    "pw = 'ghkdwjdgus12!'"
   ]
  },
  {
   "cell_type": "code",
   "execution_count": 18,
   "metadata": {},
   "outputs": [
    {
     "name": "stderr",
     "output_type": "stream",
     "text": [
      "/var/folders/pf/fwj97kj92xndww92192qpr780000gn/T/ipykernel_58208/2528325948.py:1: DeprecationWarning: find_element_by_* commands are deprecated. Please use find_element() instead\n",
      "  driver.find_element_by_xpath('//*[@id=\"loginForm\"]/div/div[1]/div/label/input').send_keys(id)\n",
      "/var/folders/pf/fwj97kj92xndww92192qpr780000gn/T/ipykernel_58208/2528325948.py:2: DeprecationWarning: find_element_by_* commands are deprecated. Please use find_element() instead\n",
      "  driver.find_element_by_xpath('//*[@id=\"loginForm\"]/div/div[2]/div/label/input').send_keys(pw)\n",
      "/var/folders/pf/fwj97kj92xndww92192qpr780000gn/T/ipykernel_58208/2528325948.py:3: DeprecationWarning: find_element_by_* commands are deprecated. Please use find_element() instead\n",
      "  driver.find_element_by_css_selector('#loginForm > div > div:nth-child(3) > button').click()\n"
     ]
    }
   ],
   "source": [
    "driver.find_element_by_xpath('//*[@id=\"loginForm\"]/div/div[1]/div/label/input').send_keys(id)\n",
    "driver.find_element_by_xpath('//*[@id=\"loginForm\"]/div/div[2]/div/label/input').send_keys(pw)\n",
    "driver.find_element_by_css_selector('#loginForm > div > div:nth-child(3) > button').click()\n"
   ]
  },
  {
   "cell_type": "code",
   "execution_count": 20,
   "metadata": {},
   "outputs": [
    {
     "name": "stderr",
     "output_type": "stream",
     "text": [
      "/var/folders/pf/fwj97kj92xndww92192qpr780000gn/T/ipykernel_58208/820798698.py:1: DeprecationWarning: find_element_by_* commands are deprecated. Please use find_element() instead\n",
      "  driver.find_element_by_xpath('//*[@id=\"react-root\"]/section/main/div/div/div/div/button').click()\n"
     ]
    }
   ],
   "source": [
    "driver.find_element_by_xpath('//*[@id=\"react-root\"]/section/main/div/div/div/div/button').click()\n",
    "driver.find_element_by_xpath('/html/body/div[6]/div/div/div/div[3]/button[2]').click()"
   ]
  },
  {
   "cell_type": "code",
   "execution_count": 23,
   "metadata": {},
   "outputs": [],
   "source": [
    "want_serch = 'wecode_bootcamp/'\n",
    "driver.get(url+want_serch)"
   ]
  },
  {
   "cell_type": "code",
   "execution_count": 24,
   "metadata": {},
   "outputs": [
    {
     "name": "stderr",
     "output_type": "stream",
     "text": [
      "/var/folders/pf/fwj97kj92xndww92192qpr780000gn/T/ipykernel_58208/112296678.py:1: DeprecationWarning: find_element_by_* commands are deprecated. Please use find_element() instead\n",
      "  driver.find_element_by_css_selector('div._9AhH0').click()\n"
     ]
    }
   ],
   "source": [
    "# 게시글 1번 누르기\n",
    "driver.find_element_by_css_selector('div._9AhH0').click()"
   ]
  },
  {
   "cell_type": "code",
   "execution_count": 27,
   "metadata": {},
   "outputs": [],
   "source": [
    "soup = BeautifulSoup(driver.page_source, 'html')"
   ]
  },
  {
   "cell_type": "code",
   "execution_count": 100,
   "metadata": {},
   "outputs": [
    {
     "ename": "IndexError",
     "evalue": "list index out of range",
     "output_type": "error",
     "traceback": [
      "\u001b[0;31m---------------------------------------------------------------------------\u001b[0m",
      "\u001b[0;31mIndexError\u001b[0m                                Traceback (most recent call last)",
      "Input \u001b[0;32mIn [100]\u001b[0m, in \u001b[0;36m<module>\u001b[0;34m\u001b[0m\n\u001b[0;32m----> 1\u001b[0m auth \u001b[38;5;241m=\u001b[39m \u001b[43msoup\u001b[49m\u001b[38;5;241;43m.\u001b[39;49m\u001b[43mselect\u001b[49m\u001b[43m(\u001b[49m\u001b[38;5;124;43m'\u001b[39;49m\u001b[38;5;124;43mh2._6lAjh\u001b[39;49m\u001b[38;5;124;43m'\u001b[39;49m\u001b[43m)\u001b[49m\u001b[43m[\u001b[49m\u001b[38;5;241;43m0\u001b[39;49m\u001b[43m]\u001b[49m\u001b[38;5;241m.\u001b[39mtext\n\u001b[1;32m      2\u001b[0m auth\n",
      "\u001b[0;31mIndexError\u001b[0m: list index out of range"
     ]
    }
   ],
   "source": [
    "auth = soup.select('h2._6lAjh')[0].text\n",
    "auth"
   ]
  },
  {
   "cell_type": "code",
   "execution_count": 55,
   "metadata": {},
   "outputs": [
    {
     "data": {
      "text/plain": [
       "\"매 기수 프로젝트 발표 소식을 전해드릴 때마다저희가 강조했던 ‘리팩토링’ ‘회고’ 기억나시나요?도대체 뭘 회고한다는 건지, 위코더들은 어떻게 하고 있는지 조금 보여드릴게요 👀현재 마지막 프로젝트에 박차를 가하고 있는 28기 양대영님의 1차 프로젝트 회고의 일부를 공유드립니다!--🪖\\xa0스스로 세운 나만의 개인적 프로젝트 목표, 팀의 이병 헨리가 되자!나는 '헨리 이병 이야기'의 헨리 역할을 이번 프로젝트에서 맡기로 스스로 생각했다. 헨리 이병 이야기는 예전에 내가 대학생 때 들었던 사설 인문학 교육캠프에서 들었던 이야기였다. 세계 2차대전 당시 어느 전투에서 매우 불리한 전황 속에서 이긴 사례가 있는데, 그 때 그 전투에 대다수 사람들이 자신들이 승리를 할 수 있있던 이유는 헨리 이병이었다고 한 것이다.-헨리는 취식/보급담당이었는데, 항상 음식을 나눠줄 때마다 사람들에게 격려와 칭찬 그리고 그들이 필요한 것이 무엇인지 생각하며 먼저 베풀고 인사하던 병이었다고 한다. 그의 그러한 긍정적인 에너지 덕분에 극한의 환경에서도 사람들은 무너지지 않았고 결국 전투에서 승리했다는 이야기였다.--🍢\\xa0우리 팀이 선택한 협업 방식우리 팀은 화면을 구성하는 단계부터 백엔드를 포함해서 전 팀원이 함께 화면구성부터 데이터 모델링까지 짜는 식으로 중요 결정사항에는 다같이 참여해서 의견을 나누는 식으로 했다. 그래서 나온 의견을 종합해서 시각적으로는 와이어프레임(Wire-Frame / Tool: Kakao Oven)을 작성하였다. 그래서 언제든지 우리의 구현 목표를 시각적으로 알 수 있게 하였다.-그리고 각자 현재 맡은 업무들의 구체적인 진행상황을 한 눈에 신문 읽듯이 파악할 수 있도록 트렐로를 사용했다. 각자 프론트/백엔드로 나눴을 뿐만 아니라 개개인의 레이블 색을 지정했고 나는 핑크색을 선택했다. 그리고 이러한 방식은 매일 데일리 미팅을 하지만 중간중간에 다른 사람이 어디까지 했고, 얼마나 진행되었는지 알 수 있어서 실제로 도움이 되었다. 또한 우리는 매일 데일리 미팅을 하고 스프린트(1주일) 주기로 회고하면서 주기적으로 상호간의 진행상황과 Blocker들을 공유하며 프로젝트를 진행해갔다.--🪖\\xa0팀의 헨리 이병으로서 한 것들나는 팀원들을 사기를 돋우기 위해서 간식과 에너지 드링크들을 매일 같이 사비로 사와서 나눠주었다. 물론 단순히 간식을 나눠준 것이 얼마나 큰 효과가 생겼을지는 모르겠지만 다들 힘들어 하는 시간에 단 것을 제공함으로써 힘이 조금이라도 전환되길 바라며 그렇게 거의 매일같이 하였다. 그리고 또한 팀원들이 맡기 꺼려하는 일들인 회의록 작성과 중간 발표하기, 최종일 발표자료 만들기 등의 역할 또한 내가 먼저 나서서 맡았다. 그렇게 나는 비록 팀의 중심은 되지 못하겠지만, 1인분의 프론트엔드 개발자로서 팀의 윤활유 같은 역할을 하면서 프로젝트를 진행해갔다.--🌈\\xa0성장 포인트그 과정에서 스스로 구글링을 하면서 답을 찾는 능력이 많이 올라갔음을 나도 느꼈고 멘토님과 다른 팀원 분들도 많이 성장한 것 같다고 말씀들을 해주셨다. 또한 우리가 결국 여러가지 역경을 마주하면서 너무나도 각자 힘든 상황을 마주하게 되었지만 팀원들 또한 서로 간에 짜증내거나 질책하기 보다는 각자 배려를 하면서 저마다의 페이스대로 완주를 할 수 있도록 격려하는 우리 팀만의 문화가 형성되었다. 우리의 팀명이 위해요(WEHAEYO)인데, 정말 팀명대로 서로 간에 위해주는 팀이 되었다.\""
      ]
     },
     "execution_count": 55,
     "metadata": {},
     "output_type": "execute_result"
    }
   ],
   "source": [
    "main = soup.select('div.C4VMK > span')[0].text\n",
    "main"
   ]
  },
  {
   "cell_type": "code",
   "execution_count": 57,
   "metadata": {},
   "outputs": [
    {
     "data": {
      "text/plain": [
       "'21시간 전'"
      ]
     },
     "execution_count": 57,
     "metadata": {},
     "output_type": "execute_result"
    }
   ],
   "source": [
    "date_time = soup.select('time._1o9PC.Nzb55')[0].text\n",
    "date_time"
   ]
  },
  {
   "cell_type": "code",
   "execution_count": 65,
   "metadata": {},
   "outputs": [
    {
     "data": {
      "text/plain": [
       "'좋아요 57개'"
      ]
     },
     "execution_count": 65,
     "metadata": {},
     "output_type": "execute_result"
    }
   ],
   "source": [
    "like = soup.select('a.zV_Nj')[0].text\n",
    "like"
   ]
  },
  {
   "cell_type": "code",
   "execution_count": 98,
   "metadata": {},
   "outputs": [
    {
     "name": "stderr",
     "output_type": "stream",
     "text": [
      "/var/folders/pf/fwj97kj92xndww92192qpr780000gn/T/ipykernel_58208/1832213328.py:1: DeprecationWarning: find_element_by_* commands are deprecated. Please use find_element() instead\n",
      "  next_btn = driver.find_element_by_css_selector('div.l8mY4.feth3>button.wpO6b')\n"
     ]
    }
   ],
   "source": [
    "next_btn = driver.find_element_by_css_selector('div.l8mY4.feth3>button.wpO6b')\n",
    "next_btn.click()"
   ]
  },
  {
   "cell_type": "code",
   "execution_count": null,
   "metadata": {},
   "outputs": [],
   "source": [
    "url = \"https://www.instagram.com/\"\n",
    "driver = webdriver.Chrome('./chromedriver')\n",
    "driver.get(url)\n",
    "time.sleep(2)\n",
    "\n",
    "id = 'auddwd00@naver.com'\n",
    "pw = 'ghkdwjdgus12!'\n",
    "\n",
    "driver.find_element_by_xpath('//*[@id=\"loginForm\"]/div/div[1]/div/label/input').send_keys(id)\n",
    "driver.find_element_by_xpath('//*[@id=\"loginForm\"]/div/div[2]/div/label/input').send_keys(pw)\n",
    "driver.find_element_by_css_selector('#loginForm > div > div:nth-child(3) > button').click()\n",
    "time.sleep(3)\n",
    "\n",
    "driver.find_element_by_xpath('//*[@id=\"react-root\"]/section/main/div/div/div/div/button').click()\n",
    "time.sleep(2)\n",
    "driver.find_element_by_xpath('/html/body/div[5]/div/div/div/div[3]/button[2]').click()\n",
    "time.sleep(2)\n",
    "\n",
    "search_tag = 'explore/tags/'\n",
    "want_search = '신설동'\n",
    "driver.get(url+search_tag+want_search)\n",
    "time.sleep(3)\n",
    "driver.find_element_by_css_selector('div._9AhH0').click()\n"
   ]
  },
  {
   "cell_type": "code",
   "execution_count": 114,
   "metadata": {},
   "outputs": [
    {
     "name": "stderr",
     "output_type": "stream",
     "text": [
      "/var/folders/pf/fwj97kj92xndww92192qpr780000gn/T/ipykernel_58208/3340755158.py:40: DeprecationWarning: find_element_by_* commands are deprecated. Please use find_element() instead\n",
      "  next_btn = driver.find_element_by_css_selector('div.l8mY4.feth3>button.wpO6b')\n"
     ]
    }
   ],
   "source": [
    "# url = \"https://www.instagram.com/\"\n",
    "# driver = webdriver.Chrome('./chromedriver')\n",
    "# driver.get(url)\n",
    "# time.sleep(2)\n",
    "\n",
    "# id = 'auddwd00@naver.com'\n",
    "# pw = 'ghkdwjdgus12!'\n",
    "\n",
    "# driver.find_element_by_xpath('//*[@id=\"loginForm\"]/div/div[1]/div/label/input').send_keys(id)\n",
    "# driver.find_element_by_xpath('//*[@id=\"loginForm\"]/div/div[2]/div/label/input').send_keys(pw)\n",
    "# driver.find_element_by_css_selector('#loginForm > div > div:nth-child(3) > button').click()\n",
    "# time.sleep(3)\n",
    "\n",
    "# driver.find_element_by_xpath('//*[@id=\"react-root\"]/section/main/div/div/div/div/button').click()\n",
    "# time.sleep(2)\n",
    "# driver.find_element_by_xpath('/html/body/div[5]/div/div/div/div[3]/button[2]').click()\n",
    "# time.sleep(2)\n",
    "\n",
    "# search_tag = 'explore/tags/'\n",
    "# want_search = '신설동맛집'\n",
    "# driver.get(url+search_tag+want_search)\n",
    "# time.sleep(3)\n",
    "# driver.find_element_by_css_selector('div._9AhH0').click()\n",
    "\n",
    "\n",
    "result = []\n",
    "for i in range(30):\n",
    "    try:\n",
    "        soup = BeautifulSoup(driver.page_source, 'html')\n",
    "        auth = soup.select('h2._6lAjh')[0].text\n",
    "        main = soup.select('div.C4VMK > span')[0].text\n",
    "        like = soup.select('a.zV_Nj')[0].text\n",
    "        date_time = soup.select('time._1o9PC.Nzb55')[0].text\n",
    "        data = [auth,main,like,date_time]\n",
    "        result.append(data)\n",
    "        time.sleep(3)\n",
    "    except:\n",
    "        pass\n",
    "\n",
    "    next_btn = driver.find_element_by_css_selector('div.l8mY4.feth3>button.wpO6b')\n",
    "    next_btn.click()\n",
    "    time.sleep(3)\n",
    "\n",
    "df = pd.DataFrame(result)\n",
    "df.columns = [\"저자\",\"본문\",\"좋아요\",\"업로드\"]\n",
    "df.to_excel(f'./{want_search}.xlsx')\n",
    "\n",
    "driver.close()"
   ]
  },
  {
   "cell_type": "code",
   "execution_count": 104,
   "metadata": {},
   "outputs": [],
   "source": [
    "df = pd.DataFrame(result)\n",
    "df.columns = [\"저자\",\"본문\",\"좋아요\",\"업로드\"]\n",
    "df.to_excel('./insta.xlsx')"
   ]
  }
 ],
 "metadata": {
  "interpreter": {
   "hash": "aee8b7b246df8f9039afb4144a1f6fd8d2ca17a180786b69acc140d282b71a49"
  },
  "kernelspec": {
   "display_name": "Python 3.10.1 64-bit",
   "language": "python",
   "name": "python3"
  },
  "language_info": {
   "codemirror_mode": {
    "name": "ipython",
    "version": 3
   },
   "file_extension": ".py",
   "mimetype": "text/x-python",
   "name": "python",
   "nbconvert_exporter": "python",
   "pygments_lexer": "ipython3",
   "version": "3.10.1"
  },
  "orig_nbformat": 4
 },
 "nbformat": 4,
 "nbformat_minor": 2
}
